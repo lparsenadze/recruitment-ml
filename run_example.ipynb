{
 "cells": [
  {
   "cell_type": "markdown",
   "id": "dbbc6d95",
   "metadata": {},
   "source": [
    "# Text Classifier\n",
    "Notebook demonstrates training of Bidirectional LSTM model for text classification. In this notebook we do data preprocessing, model training and validation on test dataset.\n",
    "## 1. Preprocessing and EDA\n",
    "During the preprocessing step we can choose the how we would like to preprocess our data. I considered 1) leaving data as is, 2) lemmatizing it or 3) stemming it. With experimentation I found that lemmatizing data does a good job or reducing the size of models vocabulary (and therefore model size), while not effecting models performance too much.\n",
    "Also an important hyper-parameter is maximal sequence length of out model. To derive it I examined the distribution of text length in the dataset. We see that 80% of data has less then 100 tokens (see output below). \n",
    "Number of samples per class is imbalanced, negatives are more present. It may negatively effect the model's ability to generalize if prior probability of one class is higher then others. Also imbalanced learning requires more careful validation. There are many ways to address this issue, but for simplicity I will under-sample the overrepresented class. \n",
    "See the execution below. It produces some basic EDA and resampling information. After the below script is completed we will have train and test splits vectorized and ready for training / testing.\n",
    "\n",
    "Note: To run preprocessing script you need to make sure all required nltk components are downloaded (see README)\n"
   ]
  },
  {
   "cell_type": "code",
   "execution_count": 62,
   "id": "a5204c76",
   "metadata": {},
   "outputs": [
    {
     "name": "stdout",
     "output_type": "stream",
     "text": [
      "2022-11-25 19:17:12,378 models       INFO     Performing Basic EDA...\n",
      "2022-11-25 19:17:12,380 models       INFO     -- Number of Samples:\n",
      "2022-11-25 19:17:12,380 models       INFO     \tTotal: 12610\n",
      "2022-11-25 19:17:12,380 models       INFO     \tPositives: 4749\n",
      "2022-11-25 19:17:12,380 models       INFO     \tnegatives: 7861\n",
      "\n",
      "2022-11-25 19:17:12,739 models       INFO     -- Sequence Lengths:\n",
      "2022-11-25 19:17:12,739 models       INFO     \tMax Sequence Length: 218619\n",
      "2022-11-25 19:17:12,739 models       INFO     \tMin Sequence Length: 0\n",
      "2022-11-25 19:17:12,740 models       INFO     \tSeq. Length Percentiles:\n",
      "2022-11-25 19:17:12,740 models       INFO     \t\t 15-th percentile = 16.0\n",
      "2022-11-25 19:17:12,741 models       INFO     \t\t 25-th percentile = 21.0\n",
      "2022-11-25 19:17:12,741 models       INFO     \t\t 50-th percentile = 40.0\n",
      "2022-11-25 19:17:12,742 models       INFO     \t\t 75-th percentile = 79.75\n",
      "2022-11-25 19:17:12,743 models       INFO     \t\t 80-th percentile = 94.0\n",
      "2022-11-25 19:17:12,743 models       INFO     \t\t 90-th percentile = 140.0\n",
      "2022-11-25 19:17:12,743 models       INFO     \n",
      "\n",
      "2022-11-25 19:17:13,142 models       INFO     -- Unique Tokens:\n",
      "2022-11-25 19:17:13,191 models       INFO     \tCased: 44383\n",
      "2022-11-25 19:17:13,316 models       INFO     \tUncased: 36323\n",
      "2022-11-25 19:17:16,439 models       INFO     \tLemmatized: 31627\n",
      "2022-11-25 19:17:18,723 models       INFO     \tLemmatized Verbs: 28276\n",
      "2022-11-25 19:17:31,666 models       INFO     \tStemmed: 21271\n",
      "\n",
      "2022-11-25 19:17:32,109 models       INFO     Vectorizing Dataset...\n",
      "2022-11-25 19:17:34,888 models       INFO     \tBalancing class supports..\n",
      "2022-11-25 19:17:34,889 models       INFO     \t\tOriginal class supports: pos - 4749; neg - 7861\n",
      "2022-11-25 19:17:34,891 models       INFO     \t\tBalanced supports: pos - 4749; neg - 4749\n",
      "2022-11-25 19:17:34,996 models       INFO     \tSplitting datasets..\n",
      "2022-11-25 19:17:35,103 models       INFO     Saving vectorized datasets...\n",
      "2022-11-25 19:17:35,199 models       INFO     Done.\n"
     ]
    }
   ],
   "source": [
    "!python process.py --strategy UnderSample --method lemm_v --max_seq_len 110"
   ]
  },
  {
   "cell_type": "markdown",
   "id": "83c1a4e3",
   "metadata": {},
   "source": [
    "Vectorized datasets can be loaded with numpy."
   ]
  },
  {
   "cell_type": "code",
   "execution_count": 32,
   "id": "6d3d0aae",
   "metadata": {},
   "outputs": [
    {
     "data": {
      "text/plain": [
       "((7598, 110), (7598,))"
      ]
     },
     "execution_count": 32,
     "metadata": {},
     "output_type": "execute_result"
    }
   ],
   "source": [
    "import numpy as np\n",
    "import json\n",
    "\n",
    "train = np.load('data/train.npz')\n",
    "test = np.load('data/test.npz')\n",
    "\n",
    "#shapes of vectorized training set\n",
    "train['X'].shape, train['y'].shape\n"
   ]
  },
  {
   "cell_type": "markdown",
   "id": "cfbad828",
   "metadata": {},
   "source": [
    "## 2 Seq. model and Training\n",
    "\n",
    "Script below will train and save BiLSTM model."
   ]
  },
  {
   "cell_type": "code",
   "execution_count": 33,
   "id": "7623e18c",
   "metadata": {},
   "outputs": [
    {
     "name": "stdout",
     "output_type": "stream",
     "text": [
      "2022-11-25 18:49:50,143 models       INFO     Loading data...\n",
      "2022-11-25 18:49:50,160 models       INFO     Completed.\n",
      "\n",
      "2022-11-25 18:49:50,160 models       INFO     Loading model...\n",
      "2022-11-25 18:49:50,227 models       INFO     Completed.\n",
      "\n",
      "2022-11-25 18:49:50,229 models       INFO     Starting training...\n",
      "Epoch 0: : 0batch [00:00, ?batch/s]2022-11-25 18:49:51.386590: W tensorflow/core/platform/profile_utils/cpu_utils.cc:128] Failed to get CPU frequency: 0 Hz\n",
      "Epoch 0: : 238batch [00:47,  5.01batch/s, train_ACC=91, train_LOSS=0.208]  \n",
      "Test 0: : 60batch [00:10,  5.93batch/s, test_ACC=96.7, test_LOSS=0.0957]\n",
      "Epoch 1: : 238batch [00:49,  4.77batch/s, train_ACC=98.6, train_LOSS=0.037] \n",
      "Test 1: : 60batch [00:09,  6.31batch/s, test_ACC=96.4, test_LOSS=0.106]\n",
      "Epoch 2: : 238batch [00:50,  4.73batch/s, train_ACC=99.5, train_LOSS=0.0157]\n",
      "Test 2: : 60batch [00:09,  6.40batch/s, test_ACC=96.3, test_LOSS=0.12] \n",
      "WARNING:absl:Found untraced functions such as lstm_cell_1_layer_call_fn, lstm_cell_1_layer_call_and_return_conditional_losses, lstm_cell_2_layer_call_fn, lstm_cell_2_layer_call_and_return_conditional_losses while saving (showing 4 of 4). These functions will not be directly callable after loading.\n",
      "2022-11-25 18:52:57,834 models       INFO     Done.\n",
      "\n",
      "INFO:models:Done.\n",
      "\n"
     ]
    }
   ],
   "source": [
    "!python train.py --model_path 'data/model/' --num_epochs 3 --max_seq_len 110\n"
   ]
  },
  {
   "cell_type": "code",
   "execution_count": 34,
   "id": "4f408c24",
   "metadata": {},
   "outputs": [
    {
     "data": {
      "text/plain": [
       "Reusing TensorBoard on port 6006 (pid 60228), started 0:30:56 ago. (Use '!kill 60228' to kill it.)"
      ]
     },
     "metadata": {},
     "output_type": "display_data"
    },
    {
     "data": {
      "text/html": [
       "\n",
       "      <iframe id=\"tensorboard-frame-f402c362d83a5a69\" width=\"100%\" height=\"800\" frameborder=\"0\">\n",
       "      </iframe>\n",
       "      <script>\n",
       "        (function() {\n",
       "          const frame = document.getElementById(\"tensorboard-frame-f402c362d83a5a69\");\n",
       "          const url = new URL(\"/\", window.location);\n",
       "          const port = 6006;\n",
       "          if (port) {\n",
       "            url.port = port;\n",
       "          }\n",
       "          frame.src = url;\n",
       "        })();\n",
       "      </script>\n",
       "    "
      ],
      "text/plain": [
       "<IPython.core.display.HTML object>"
      ]
     },
     "metadata": {},
     "output_type": "display_data"
    }
   ],
   "source": [
    "%reload_ext tensorboard\n",
    "%tensorboard --logdir 'logs/' --reload_multifile True"
   ]
  },
  {
   "cell_type": "markdown",
   "id": "0ab9a248",
   "metadata": {},
   "source": [
    "## Model Validation\n",
    "\n",
    "For now I decided not to implement the inference interface and in order to analyse the models performace I will use test data vectorized in previous step. "
   ]
  },
  {
   "cell_type": "code",
   "execution_count": 35,
   "id": "7032b12d",
   "metadata": {
    "scrolled": true
   },
   "outputs": [
    {
     "name": "stdout",
     "output_type": "stream",
     "text": [
      "WARNING:tensorflow:No training configuration found in save file, so the model was *not* compiled. Compile it manually.\n"
     ]
    }
   ],
   "source": [
    "import tensorflow as tf\n",
    "model = tf.keras.models.load_model('data/model/')\n",
    "X = test['X'] \n",
    "y = test['y']"
   ]
  },
  {
   "cell_type": "code",
   "execution_count": 40,
   "id": "03cad8a2",
   "metadata": {},
   "outputs": [],
   "source": [
    "preds = model(X, training=False)"
   ]
  },
  {
   "cell_type": "markdown",
   "id": "2e437683",
   "metadata": {},
   "source": [
    "Convert class probability to classification result (with prob threshold)."
   ]
  },
  {
   "cell_type": "code",
   "execution_count": 53,
   "id": "2e7ed23e",
   "metadata": {},
   "outputs": [],
   "source": [
    "y_pred = preds.numpy()\n",
    "y_pred = y_pred.reshape((1,-1))\n",
    "y_pred[y_pred >=0.5] = 1\n",
    "y_pred[y_pred <0.5] = 0"
   ]
  },
  {
   "cell_type": "markdown",
   "id": "8bc0e7e6",
   "metadata": {},
   "source": [
    "Below confusion matrix shows that model is able to classify unknown data with hight accuracy"
   ]
  },
  {
   "cell_type": "code",
   "execution_count": 55,
   "id": "b0c554c0",
   "metadata": {},
   "outputs": [
    {
     "data": {
      "image/png": "[encoded data removed]",
      "text/plain": [
       "<Figure size 1000x600 with 2 Axes>"
      ]
     },
     "metadata": {},
     "output_type": "display_data"
    }
   ],
   "source": [
    "from sklearn.metrics import confusion_matrix\n",
    "import seaborn as sb\n",
    "import matplotlib.pyplot as plt\n",
    "cm = confusion_matrix(y_pred[0], y)\n",
    "#cm # X-axis Predicted vs Y-axis Actual Values\n",
    "plt.subplots(figsize=(10, 6))\n",
    "sb.heatmap(cm, annot = True, fmt = 'g')\n",
    "plt.xlabel(\"Predicted\")\n",
    "plt.ylabel(\"Actual\")\n",
    "plt.title(\"Confusion Matrix\")\n",
    "plt.show()\n",
    "\n",
    "\n"
   ]
  },
  {
   "cell_type": "code",
   "execution_count": 60,
   "id": "c60f506b",
   "metadata": {},
   "outputs": [
    {
     "name": "stdout",
     "output_type": "stream",
     "text": [
      "              precision    recall  f1-score   support\n",
      "\n",
      "           0       0.95      0.98      0.96       945\n",
      "           1       0.98      0.95      0.96       955\n",
      "\n",
      "    accuracy                           0.96      1900\n",
      "   macro avg       0.96      0.96      0.96      1900\n",
      "weighted avg       0.96      0.96      0.96      1900\n",
      "\n"
     ]
    }
   ],
   "source": [
    "from sklearn.metrics import classification_report\n",
    "\n",
    "print(classification_report(y, y_pred[0]))"
   ]
  },
  {
   "cell_type": "markdown",
   "id": "cd202115",
   "metadata": {},
   "source": [
    "## Conclusions\n",
    "The above seq. model performs well on a given task. \n",
    "Possible improvements:\n",
    "\n",
    "    1. Inference Interface \n",
    "    2. Reducing the variance of text sequence lengths. (Texts in the dataset vary in length, balancing it may improve performance)\n",
    "    3. Hyperparametrization fine-tuning\n",
    "    4. Using pre-trained word-vectors like W2V, FastText etc.\n",
    "    5. Using attention models.\n",
    "\n",
    "(Improvements 4, and 5 would be good if decide to make our model more complex, include more authors for example. Otherwise seems excessive for this task)\n"
   ]
  }
 ],
 "metadata": {
  "kernelspec": {
   "display_name": "Python 3 (ipykernel)",
   "language": "python",
   "name": "python3"
  },
  "language_info": {
   "codemirror_mode": {
    "name": "ipython",
    "version": 3
   },
   "file_extension": ".py",
   "mimetype": "text/x-python",
   "name": "python",
   "nbconvert_exporter": "python",
   "pygments_lexer": "ipython3",
   "version": "3.9.13"
  }
 },
 "nbformat": 4,
 "nbformat_minor": 5
}
